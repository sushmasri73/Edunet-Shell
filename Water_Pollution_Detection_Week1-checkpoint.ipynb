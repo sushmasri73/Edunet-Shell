{
 "cells": [
  {
   "cell_type": "markdown",
   "id": "97c9a402",
   "metadata": {},
   "source": [
    "# Water Pollution Detection – Week 1 (Environmental Monitoring & Pollution Control)\n",
    "This notebook builds baseline ML models to predict **Potability** (0=Not potable, 1=Potable) from water quality indicators. It includes EDA, preprocessing, model training (Logistic Regression, Random Forest), evaluation, and model export. Use the provided synthetic dataset or replace with your own (same columns)."
   ]
  },
  {
   "cell_type": "markdown",
   "id": "7543ceb7",
   "metadata": {},
   "source": [
    "## 1. Setup"
   ]
  },
  {
   "cell_type": "code",
   "execution_count": 1,
   "id": "384adba5",
   "metadata": {},
   "outputs": [
    {
     "ename": "ModuleNotFoundError",
     "evalue": "No module named 'pandas'",
     "output_type": "error",
     "traceback": [
      "\u001b[31m---------------------------------------------------------------------------\u001b[39m",
      "\u001b[31mModuleNotFoundError\u001b[39m                       Traceback (most recent call last)",
      "\u001b[36mCell\u001b[39m\u001b[36m \u001b[39m\u001b[32mIn[1]\u001b[39m\u001b[32m, line 6\u001b[39m\n\u001b[32m      4\u001b[39m \u001b[38;5;28;01mimport\u001b[39;00m\u001b[38;5;250m \u001b[39m\u001b[34;01mos\u001b[39;00m\n\u001b[32m      5\u001b[39m \u001b[38;5;28;01mimport\u001b[39;00m\u001b[38;5;250m \u001b[39m\u001b[34;01mnumpy\u001b[39;00m\u001b[38;5;250m \u001b[39m\u001b[38;5;28;01mas\u001b[39;00m\u001b[38;5;250m \u001b[39m\u001b[34;01mnp\u001b[39;00m\n\u001b[32m----> \u001b[39m\u001b[32m6\u001b[39m \u001b[38;5;28;01mimport\u001b[39;00m\u001b[38;5;250m \u001b[39m\u001b[34;01mpandas\u001b[39;00m\u001b[38;5;250m \u001b[39m\u001b[38;5;28;01mas\u001b[39;00m\u001b[38;5;250m \u001b[39m\u001b[34;01mpd\u001b[39;00m\n\u001b[32m      7\u001b[39m \u001b[38;5;28;01mfrom\u001b[39;00m\u001b[38;5;250m \u001b[39m\u001b[34;01msklearn\u001b[39;00m\u001b[34;01m.\u001b[39;00m\u001b[34;01mmodel_selection\u001b[39;00m\u001b[38;5;250m \u001b[39m\u001b[38;5;28;01mimport\u001b[39;00m train_test_split, cross_val_score\n\u001b[32m      8\u001b[39m \u001b[38;5;28;01mfrom\u001b[39;00m\u001b[38;5;250m \u001b[39m\u001b[34;01msklearn\u001b[39;00m\u001b[34;01m.\u001b[39;00m\u001b[34;01mimpute\u001b[39;00m\u001b[38;5;250m \u001b[39m\u001b[38;5;28;01mimport\u001b[39;00m SimpleImputer\n",
      "\u001b[31mModuleNotFoundError\u001b[39m: No module named 'pandas'"
     ]
    }
   ],
   "source": [
    "\n",
    "# If running in a new environment, ensure packages are installed:\n",
    "# !pip install pandas scikit-learn matplotlib joblib\n",
    "\n",
    "import os\n",
    "import numpy as np\n",
    "import pandas as pd\n",
    "from sklearn.model_selection import train_test_split, cross_val_score\n",
    "from sklearn.impute import SimpleImputer\n",
    "from sklearn.preprocessing import StandardScaler\n",
    "from sklearn.pipeline import Pipeline\n",
    "from sklearn.compose import ColumnTransformer\n",
    "from sklearn.linear_model import LogisticRegression\n",
    "from sklearn.ensemble import RandomForestClassifier\n",
    "from sklearn.metrics import classification_report, confusion_matrix, roc_auc_score, RocCurveDisplay\n",
    "import matplotlib.pyplot as plt\n",
    "import joblib\n",
    "\n",
    "BASE_DIR = \"/mnt/data/Water_Pollution_Detection_Week1\"\n",
    "DATA_PATH = os.path.join(BASE_DIR, \"data\", \"water_quality.csv\")\n",
    "print(\"Using data at:\", DATA_PATH)\n"
   ]
  },
  {
   "cell_type": "markdown",
   "id": "09114f82",
   "metadata": {},
   "source": [
    "## 2. Load Data"
   ]
  },
  {
   "cell_type": "code",
   "execution_count": null,
   "id": "de46eb33",
   "metadata": {},
   "outputs": [],
   "source": [
    "\n",
    "df = pd.read_csv(DATA_PATH)\n",
    "print(df.head())\n",
    "print(\"\\nShape:\", df.shape)\n",
    "print(\"\\nMissing values per column:\\n\", df.isna().sum())\n"
   ]
  },
  {
   "cell_type": "markdown",
   "id": "a6c3982a",
   "metadata": {},
   "source": [
    "## 3. Quick EDA"
   ]
  },
  {
   "cell_type": "code",
   "execution_count": null,
   "id": "2f9cd317",
   "metadata": {},
   "outputs": [],
   "source": [
    "\n",
    "print(df.describe().T)\n",
    "\n",
    "print(\"\\nClass balance:\")\n",
    "print(df['Potability'].value_counts(normalize=True))\n",
    "\n",
    "numeric_cols = [c for c in df.columns if c != 'Potability']\n",
    "for col in numeric_cols:\n",
    "    plt.figure()\n",
    "    df[col].hist(bins=30)\n",
    "    plt.title(col)\n",
    "    plt.xlabel(col)\n",
    "    plt.ylabel(\"Count\")\n",
    "    plt.show()\n"
   ]
  },
  {
   "cell_type": "markdown",
   "id": "fa9ec3bd",
   "metadata": {},
   "source": [
    "## 4. Train/Test Split"
   ]
  },
  {
   "cell_type": "code",
   "execution_count": null,
   "id": "00d4988f",
   "metadata": {},
   "outputs": [],
   "source": [
    "\n",
    "X = df.drop(columns=['Potability'])\n",
    "y = df['Potability'].astype(int)\n",
    "\n",
    "X_train, X_test, y_train, y_test = train_test_split(\n",
    "    X, y, test_size=0.2, random_state=42, stratify=y\n",
    ")\n",
    "\n",
    "X_train.shape, X_test.shape\n"
   ]
  },
  {
   "cell_type": "markdown",
   "id": "e571cc2e",
   "metadata": {},
   "source": [
    "## 5. Preprocessing & Baseline Models"
   ]
  },
  {
   "cell_type": "code",
   "execution_count": null,
   "id": "ebb7c3bd",
   "metadata": {},
   "outputs": [],
   "source": [
    "\n",
    "from sklearn.metrics import ConfusionMatrixDisplay\n",
    "\n",
    "numeric_features = X_train.columns.tolist()\n",
    "\n",
    "preprocess = ColumnTransformer(\n",
    "    transformers=[('num', Pipeline(steps=[\n",
    "        ('imputer', SimpleImputer(strategy='median')),\n",
    "        ('scaler', StandardScaler())\n",
    "    ]), numeric_features)]\n",
    ")\n",
    "\n",
    "logreg = Pipeline(steps=[('prep', preprocess),\n",
    "                        ('clf', LogisticRegression(max_iter=500))])\n",
    "\n",
    "rf = Pipeline(steps=[('prep', preprocess),\n",
    "                    ('clf', RandomForestClassifier(n_estimators=300, random_state=42))])\n",
    "\n",
    "models = {'LogisticRegression': logreg, 'RandomForest': rf}\n",
    "for name, model in models.items():\n",
    "    model.fit(X_train, y_train)\n",
    "    preds = model.predict(X_test)\n",
    "    proba = model.predict_proba(X_test)[:,1]\n",
    "    print(f\"\\n=== {name} ===\")\n",
    "    print(classification_report(y_test, preds, digits=4))\n",
    "    cm = confusion_matrix(y_test, preds)\n",
    "    print(\"Confusion Matrix:\\n\", cm)\n",
    "    auc = roc_auc_score(y_test, proba)\n",
    "    print(\"ROC AUC:\", round(auc, 4))\n",
    "\n",
    "    RocCurveDisplay.from_predictions(y_test, proba)\n",
    "    plt.title(f\"ROC – {name}\")\n",
    "    plt.show()\n"
   ]
  },
  {
   "cell_type": "markdown",
   "id": "fb43be69",
   "metadata": {},
   "source": [
    "## 6. Feature Importance (Random Forest)"
   ]
  },
  {
   "cell_type": "code",
   "execution_count": null,
   "id": "8b92c569",
   "metadata": {},
   "outputs": [],
   "source": [
    "\n",
    "rf_model = models['RandomForest']\n",
    "rf_est = rf_model.named_steps['clf']\n",
    "importances = rf_est.feature_importances_\n",
    "fi = pd.Series(importances, index=numeric_features).sort_values(ascending=False)\n",
    "print(fi)\n",
    "\n",
    "plt.figure()\n",
    "fi.plot(kind='bar')\n",
    "plt.title(\"Feature Importance – Random Forest\")\n",
    "plt.ylabel(\"Importance\")\n",
    "plt.tight_layout()\n",
    "plt.show()\n"
   ]
  },
  {
   "cell_type": "markdown",
   "id": "38dd8e55",
   "metadata": {},
   "source": [
    "## 7. Cross-Validation (Quick Check)"
   ]
  },
  {
   "cell_type": "code",
   "execution_count": null,
   "id": "a43863fa",
   "metadata": {},
   "outputs": [],
   "source": [
    "\n",
    "cv_scores = cross_val_score(models['RandomForest'], X, y, cv=5, scoring='roc_auc')\n",
    "print(\"5-fold CV ROC AUC (RF):\", np.round(cv_scores, 4))\n",
    "print(\"Mean ± Std:\", round(cv_scores.mean(), 4), \"±\", round(cv_scores.std(), 4))\n"
   ]
  },
  {
   "cell_type": "markdown",
   "id": "dd2e0ad6",
   "metadata": {},
   "source": [
    "## 8. Export Best Model"
   ]
  },
  {
   "cell_type": "code",
   "execution_count": null,
   "id": "1379b059",
   "metadata": {},
   "outputs": [],
   "source": [
    "\n",
    "best_model = models['RandomForest']\n",
    "export_path = os.path.join(BASE_DIR, \"model_random_forest.joblib\")\n",
    "joblib.dump(best_model, export_path)\n",
    "export_path\n"
   ]
  },
  {
   "cell_type": "markdown",
   "id": "f3169fa2",
   "metadata": {},
   "source": [
    "## 9. How to Replace with Your Own Dataset"
   ]
  },
  {
   "cell_type": "markdown",
   "id": "42bac970",
   "metadata": {},
   "source": [
    "\n",
    "- Replace `data/water_quality.csv` with your dataset having the same column names:\n",
    "  `['ph','Hardness','Solids','Chloramines','Sulfate','Conductivity','Organic_carbon','Trihalomethanes','Turbidity','Potability']`  \n",
    "- Ensure `Potability` is 0/1. If not, map labels accordingly.\n",
    "- Re-run all cells.\n"
   ]
  }
 ],
 "metadata": {
  "kernelspec": {
   "display_name": "Python 3",
   "language": "python",
   "name": "python3"
  },
  "language_info": {
   "codemirror_mode": {
    "name": "ipython",
    "version": 3
   },
   "file_extension": ".py",
   "mimetype": "text/x-python",
   "name": "python",
   "nbconvert_exporter": "python",
   "pygments_lexer": "ipython3",
   "version": "3.13.2"
  }
 },
 "nbformat": 4,
 "nbformat_minor": 5
}
